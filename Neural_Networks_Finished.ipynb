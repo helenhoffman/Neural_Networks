{
 "cells": [
  {
   "cell_type": "markdown",
   "metadata": {
    "toc": true
   },
   "source": [
    "<h1>Table of Contents<span class=\"tocSkip\"></span></h1>\n",
    "<div class=\"toc\"><ul class=\"toc-item\"><li><span><a href=\"#Assign-input,-output,-weight,-learning-rate\" data-toc-modified-id=\"Assign-input,-output,-weight,-learning-rate-1\"><span class=\"toc-item-num\">1&nbsp;&nbsp;</span>Assign input, output, weight, learning rate</a></span></li><li><span><a href=\"#Activation-function:-Sigmoid\" data-toc-modified-id=\"Activation-function:-Sigmoid-2\"><span class=\"toc-item-num\">2&nbsp;&nbsp;</span>Activation function: Sigmoid</a></span><ul class=\"toc-item\"><li><span><a href=\"#Derivative-of-Sigmoid-function\" data-toc-modified-id=\"Derivative-of-Sigmoid-function-2.1\"><span class=\"toc-item-num\">2.1&nbsp;&nbsp;</span>Derivative of Sigmoid function</a></span></li><li><span><a href=\"#First-round-calculation\" data-toc-modified-id=\"First-round-calculation-2.2\"><span class=\"toc-item-num\">2.2&nbsp;&nbsp;</span>First round calculation</a></span><ul class=\"toc-item\"><li><span><a href=\"#Feedforward-input\" data-toc-modified-id=\"Feedforward-input-2.2.1\"><span class=\"toc-item-num\">2.2.1&nbsp;&nbsp;</span>Feedforward input</a></span></li><li><span><a href=\"#Feedforward-output\" data-toc-modified-id=\"Feedforward-output-2.2.2\"><span class=\"toc-item-num\">2.2.2&nbsp;&nbsp;</span>Feedforward output</a></span></li><li><span><a href=\"#Error-Calculation\" data-toc-modified-id=\"Error-Calculation-2.2.3\"><span class=\"toc-item-num\">2.2.3&nbsp;&nbsp;</span>Error Calculation</a></span></li><li><span><a href=\"#Backpropagation\" data-toc-modified-id=\"Backpropagation-2.2.4\"><span class=\"toc-item-num\">2.2.4&nbsp;&nbsp;</span>Backpropagation</a></span></li></ul></li><li><span><a href=\"#Derivation-of-the-formula-used-in-a-neural-network\" data-toc-modified-id=\"Derivation-of-the-formula-used-in-a-neural-network-2.3\"><span class=\"toc-item-num\">2.3&nbsp;&nbsp;</span>Derivation of the formula used in a neural network</a></span><ul class=\"toc-item\"><li><span><a href=\"#Calculate-the-1st-part-$\\frac{\\partial-Error}{\\partial-out_o}-=-output-target-=--0.31003$\" data-toc-modified-id=\"Calculate-the-1st-part-$\\frac{\\partial-Error}{\\partial-out_o}-=-output-target-=--0.31003$-2.3.1\"><span class=\"toc-item-num\">2.3.1&nbsp;&nbsp;</span>Calculate the 1st part $\\frac{\\partial Error}{\\partial out_o} = output-target = -0.31003$</a></span></li><li><span><a href=\"#Calculate-the-2nd-part-$\\frac{\\partial-out_o}{\\partial-in_o}-=-out_o-\\times-(1---out_o)-=-0.21391$\" data-toc-modified-id=\"Calculate-the-2nd-part-$\\frac{\\partial-out_o}{\\partial-in_o}-=-out_o-\\times-(1---out_o)-=-0.21391$-2.3.2\"><span class=\"toc-item-num\">2.3.2&nbsp;&nbsp;</span>Calculate the 2nd part $\\frac{\\partial out_o}{\\partial in_o} = out_o \\times (1 - out_o) = 0.21391$</a></span></li><li><span><a href=\"#Calculate-the-3rd-part-$\\frac{\\partial-in_o}{\\partial-w}-=-input-\\-values-=-1$\" data-toc-modified-id=\"Calculate-the-3rd-part-$\\frac{\\partial-in_o}{\\partial-w}-=-input-\\-values-=-1$-2.3.3\"><span class=\"toc-item-num\">2.3.3&nbsp;&nbsp;</span>Calculate the 3rd part $\\frac{\\partial in_o}{\\partial w} = input \\ values = 1$</a></span></li><li><span><a href=\"#Put-3-parts-together\" data-toc-modified-id=\"Put-3-parts-together-2.3.4\"><span class=\"toc-item-num\">2.3.4&nbsp;&nbsp;</span>Put 3 parts together</a></span></li><li><span><a href=\"#New-calculate-new-weights-to-join-the-next-epoch\" data-toc-modified-id=\"New-calculate-new-weights-to-join-the-next-epoch-2.3.5\"><span class=\"toc-item-num\">2.3.5&nbsp;&nbsp;</span>New calculate new weights to join the next epoch</a></span></li></ul></li></ul></li><li><span><a href=\"#Why-do-we-need-bias?\" data-toc-modified-id=\"Why-do-we-need-bias?-3\"><span class=\"toc-item-num\">3&nbsp;&nbsp;</span>Why do we need bias?</a></span></li></ul></div>"
   ]
  },
  {
   "cell_type": "raw",
   "metadata": {},
   "source": [
    "Several Concepts\n",
    "1.Perceptron: is a neural network without any hidden layer. It has only one input layer and one output layer\n",
    "We use perceptron for simply decision making. Put them together in larger computer programs to make more complex problems.\n",
    "For example: if a person has some symptoms, does he need to take medical exam to check if he got covid"
   ]
  },
  {
   "cell_type": "markdown",
   "metadata": {},
   "source": [
    "# Assign input, output, weight, learning rate"
   ]
  },
  {
   "cell_type": "code",
   "execution_count": 3,
   "metadata": {},
   "outputs": [
    {
     "data": {
      "text/html": [
       "<div>\n",
       "<style scoped>\n",
       "    .dataframe tbody tr th:only-of-type {\n",
       "        vertical-align: middle;\n",
       "    }\n",
       "\n",
       "    .dataframe tbody tr th {\n",
       "        vertical-align: top;\n",
       "    }\n",
       "\n",
       "    .dataframe thead th {\n",
       "        text-align: right;\n",
       "    }\n",
       "</style>\n",
       "<table border=\"1\" class=\"dataframe\">\n",
       "  <thead>\n",
       "    <tr style=\"text-align: right;\">\n",
       "      <th></th>\n",
       "      <th>Fever</th>\n",
       "      <th>Shortness_breath</th>\n",
       "      <th>Need_exam</th>\n",
       "    </tr>\n",
       "  </thead>\n",
       "  <tbody>\n",
       "    <tr>\n",
       "      <th>0</th>\n",
       "      <td>0</td>\n",
       "      <td>0</td>\n",
       "      <td>0</td>\n",
       "    </tr>\n",
       "    <tr>\n",
       "      <th>1</th>\n",
       "      <td>0</td>\n",
       "      <td>1</td>\n",
       "      <td>1</td>\n",
       "    </tr>\n",
       "    <tr>\n",
       "      <th>2</th>\n",
       "      <td>1</td>\n",
       "      <td>0</td>\n",
       "      <td>1</td>\n",
       "    </tr>\n",
       "    <tr>\n",
       "      <th>3</th>\n",
       "      <td>1</td>\n",
       "      <td>1</td>\n",
       "      <td>1</td>\n",
       "    </tr>\n",
       "  </tbody>\n",
       "</table>\n",
       "</div>"
      ],
      "text/plain": [
       "   Fever  Shortness_breath  Need_exam\n",
       "0      0                 0          0\n",
       "1      0                 1          1\n",
       "2      1                 0          1\n",
       "3      1                 1          1"
      ]
     },
     "execution_count": 3,
     "metadata": {},
     "output_type": "execute_result"
    }
   ],
   "source": [
    "import numpy as np\n",
    "import pandas as pd\n",
    "data = {'Fever':[0,0,1,1],'Shortness_breath':[0,1,0,1], 'Need_exam':[0,1,1,1]}\n",
    "covid = pd.DataFrame(data)\n",
    "covid"
   ]
  },
  {
   "cell_type": "code",
   "execution_count": 5,
   "metadata": {},
   "outputs": [
    {
     "data": {
      "text/html": [
       "<div>\n",
       "<style scoped>\n",
       "    .dataframe tbody tr th:only-of-type {\n",
       "        vertical-align: middle;\n",
       "    }\n",
       "\n",
       "    .dataframe tbody tr th {\n",
       "        vertical-align: top;\n",
       "    }\n",
       "\n",
       "    .dataframe thead th {\n",
       "        text-align: right;\n",
       "    }\n",
       "</style>\n",
       "<table border=\"1\" class=\"dataframe\">\n",
       "  <thead>\n",
       "    <tr style=\"text-align: right;\">\n",
       "      <th></th>\n",
       "      <th>input1</th>\n",
       "      <th>input2</th>\n",
       "      <th>target</th>\n",
       "    </tr>\n",
       "  </thead>\n",
       "  <tbody>\n",
       "    <tr>\n",
       "      <th>0</th>\n",
       "      <td>0</td>\n",
       "      <td>0</td>\n",
       "      <td>0</td>\n",
       "    </tr>\n",
       "    <tr>\n",
       "      <th>1</th>\n",
       "      <td>0</td>\n",
       "      <td>1</td>\n",
       "      <td>1</td>\n",
       "    </tr>\n",
       "    <tr>\n",
       "      <th>2</th>\n",
       "      <td>1</td>\n",
       "      <td>0</td>\n",
       "      <td>1</td>\n",
       "    </tr>\n",
       "    <tr>\n",
       "      <th>3</th>\n",
       "      <td>1</td>\n",
       "      <td>1</td>\n",
       "      <td>1</td>\n",
       "    </tr>\n",
       "  </tbody>\n",
       "</table>\n",
       "</div>"
      ],
      "text/plain": [
       "   input1  input2  target\n",
       "0       0       0       0\n",
       "1       0       1       1\n",
       "2       1       0       1\n",
       "3       1       1       1"
      ]
     },
     "execution_count": 5,
     "metadata": {},
     "output_type": "execute_result"
    }
   ],
   "source": [
    "# Simplify our example\n",
    "data = {'input1':[0,0,1,1],'input2':[0,1,0,1], 'target':[0,1,1,1]}\n",
    "df = pd.DataFrame(data)\n",
    "df"
   ]
  },
  {
   "cell_type": "raw",
   "metadata": {},
   "source": [
    "We want to find out: how input1 and/or input2 influence our decision? \n",
    "Which input is more important? And by how much?\n",
    "Next, what we need to multiply the input features with it is corresponding weight values, the values we are going to feed to the perceptron can be represented in the form of a matrix.\n",
    "Size description: row# by col#\n",
    "\n",
    "Weights are randomly generated at beginning, then we run feedforward to get the output, and update/adjust weight through backpropagation"
   ]
  },
  {
   "cell_type": "markdown",
   "metadata": {},
   "source": [
    "$\n",
    "\\begin{vmatrix}\n",
    "I_1 & I_2 \\\\\n",
    "I_1 & I_2 \\\\\n",
    "I_1 & I_2 \\\\\n",
    "I_1 & I_2 \\\\\n",
    "\\end{vmatrix} \n",
    "\\times\n",
    "\\begin{vmatrix}\n",
    "W_1  \\\\\n",
    "W_2  \\\\\n",
    "\\end{vmatrix} -> \n",
    "\\begin{vmatrix}\n",
    "I_w  \\\\\n",
    "I_w  \\\\\n",
    "I_w  \\\\\n",
    "I_w  \\\\\n",
    "\\end{vmatrix} ->\n",
    "Activation\n",
    " = \n",
    "\\begin{vmatrix}\n",
    "O  \\\\\n",
    "O  \\\\\n",
    "O  \\\\\n",
    "O  \\\\\n",
    "\\end{vmatrix}\n",
    "$"
   ]
  },
  {
   "cell_type": "markdown",
   "metadata": {},
   "source": [
    "# Activation function: Sigmoid"
   ]
  },
  {
   "cell_type": "raw",
   "metadata": {},
   "source": [
    "Why do we need Sigmoid?\n",
    "From the example the top, the 4th row tells us, the output might > 1. \n",
    "We need a standarization/normalization to make it between 0 to 1."
   ]
  },
  {
   "cell_type": "markdown",
   "metadata": {},
   "source": [
    "$$f(x) = Sigmoid(x) = \\frac{1}{1 + e^{(-x)}}$$\n",
    "* f(x):sigmoid output value should between 0 and 1\n",
    "\n",
    "* e:known as Euler's number, is a mathematical constant approximately equal to 2.71828.\n",
    "\n",
    "* x: input values\n",
    "* In the binary classification both sigmoid and softmax function are the same where as in the multi-class classification we use Softmax function."
   ]
  },
  {
   "cell_type": "code",
   "execution_count": 6,
   "metadata": {},
   "outputs": [
    {
     "data": {
      "text/plain": [
       "Text(0, 0.5, 'Output')"
      ]
     },
     "execution_count": 6,
     "metadata": {},
     "output_type": "execute_result"
    },
    {
     "data": {
      "image/png": "[encoded data removed]",
      "text/plain": [
       "<Figure size 432x288 with 1 Axes>"
      ]
     },
     "metadata": {
      "needs_background": "light"
     },
     "output_type": "display_data"
    }
   ],
   "source": [
    "# Define sigmoid\n",
    "def sigmoid(x):\n",
    "    return 1/(1+np.exp(-x))\n",
    "\n",
    "import numpy as np\n",
    "import matplotlib.pyplot as plt\n",
    "\n",
    "example = np.linspace(-10,10,100) # generate 100 points between -10 and 10\n",
    "#print('example:',example)\n",
    "output = sigmoid(example)\n",
    "plt.plot(example,output)\n",
    "plt.xlabel(\"Input\")\n",
    "plt.ylabel(\"Output\")"
   ]
  },
  {
   "cell_type": "markdown",
   "metadata": {},
   "source": [
    "## Derivative of Sigmoid function"
   ]
  },
  {
   "cell_type": "markdown",
   "metadata": {},
   "source": [
    "$$\n",
    "f'(x) = \\frac{d}{dx}{Sigmoid(x)} = Sigmoid(x)*(1-Sigmoid(x))\n",
    "$$"
   ]
  },
  {
   "cell_type": "code",
   "execution_count": 7,
   "metadata": {},
   "outputs": [
    {
     "data": {
      "text/plain": [
       "[<matplotlib.lines.Line2D at 0x116c07d90>]"
      ]
     },
     "execution_count": 7,
     "metadata": {},
     "output_type": "execute_result"
    },
    {
     "data": {
      "image/png": "[encoded data removed]",
      "text/plain": [
       "<Figure size 432x288 with 1 Axes>"
      ]
     },
     "metadata": {
      "needs_background": "light"
     },
     "output_type": "display_data"
    }
   ],
   "source": [
    "# The derivative measures the steepness of the graph of a function at some particular point on the graph\n",
    "# The derivative is a slope.\n",
    "# Define derivative of sigmoid function\n",
    "def sigmoid_der(x):\n",
    "    return sigmoid(x)*(1-sigmoid(x))\n",
    "der_output = sigmoid_der(example)\n",
    "plt.plot(example,output)\n",
    "plt.plot(example,der_output)"
   ]
  },
  {
   "cell_type": "markdown",
   "metadata": {},
   "source": [
    "## First round calculation"
   ]
  },
  {
   "cell_type": "code",
   "execution_count": 27,
   "metadata": {},
   "outputs": [
    {
     "data": {
      "text/html": [
       "<div>\n",
       "<style scoped>\n",
       "    .dataframe tbody tr th:only-of-type {\n",
       "        vertical-align: middle;\n",
       "    }\n",
       "\n",
       "    .dataframe tbody tr th {\n",
       "        vertical-align: top;\n",
       "    }\n",
       "\n",
       "    .dataframe thead th {\n",
       "        text-align: right;\n",
       "    }\n",
       "</style>\n",
       "<table border=\"1\" class=\"dataframe\">\n",
       "  <thead>\n",
       "    <tr style=\"text-align: right;\">\n",
       "      <th></th>\n",
       "      <th>input1</th>\n",
       "      <th>input2</th>\n",
       "      <th>target</th>\n",
       "    </tr>\n",
       "  </thead>\n",
       "  <tbody>\n",
       "    <tr>\n",
       "      <th>0</th>\n",
       "      <td>0</td>\n",
       "      <td>0</td>\n",
       "      <td>0</td>\n",
       "    </tr>\n",
       "    <tr>\n",
       "      <th>1</th>\n",
       "      <td>0</td>\n",
       "      <td>1</td>\n",
       "      <td>1</td>\n",
       "    </tr>\n",
       "    <tr>\n",
       "      <th>2</th>\n",
       "      <td>1</td>\n",
       "      <td>0</td>\n",
       "      <td>1</td>\n",
       "    </tr>\n",
       "    <tr>\n",
       "      <th>3</th>\n",
       "      <td>1</td>\n",
       "      <td>1</td>\n",
       "      <td>1</td>\n",
       "    </tr>\n",
       "  </tbody>\n",
       "</table>\n",
       "</div>"
      ],
      "text/plain": [
       "   input1  input2  target\n",
       "0       0       0       0\n",
       "1       0       1       1\n",
       "2       1       0       1\n",
       "3       1       1       1"
      ]
     },
     "execution_count": 27,
     "metadata": {},
     "output_type": "execute_result"
    }
   ],
   "source": [
    "df"
   ]
  },
  {
   "cell_type": "markdown",
   "metadata": {},
   "source": [
    "### Feedforward input\n",
    "\n",
    "Initialize Weights -> Summation -> Activation -> Error\n",
    "* Randomly assign weight for x1 x2 and bias: w1 = 0.2, w2 = 0.3, w3 = 0.5\n",
    "* From dataset, we choose row 1: x1 = 0, x2 = 1, target = 1\n",
    "\n",
    "Weighted perceptron o1 from the row 1: \\\n",
    "$\n",
    "in_{o1} = input_1*w_1 + input_2*w_2 + bias \\\\\n",
    "= x_1 \\times w_1 + x_2 \\times w_2 + b \\times w_3\\\\\n",
    "= 0 \\times 0.2 + 1 \\times 0.3 + 1 \\times 0.5 \\\\\n",
    "= 0 + 0.3 + 0.5 \\\\\n",
    "= 0.8\n",
    "$"
   ]
  },
  {
   "cell_type": "markdown",
   "metadata": {},
   "source": [
    "### Feedforward output\n",
    "\n",
    "$in_{o1} -> sigmoid \\ standardize -> out_{o1} \\\\\n",
    "out_{o1} = sigmoid(in_{o1}) = \\frac{1}{1 + e^{-0.8}} = 0.68997\n",
    "$"
   ]
  },
  {
   "cell_type": "markdown",
   "metadata": {},
   "source": [
    "### Error Calculation\n",
    "$\n",
    "\\begin{align}\n",
    "Error = MSE = \\frac{1}{n} \\sum_ {i=1}^n (\\hat Y_i - Y_i)^2  = \\frac{1}{2} \\sum_ {}(target_1 - output_1)^2 \\\\\n",
    "= 0.5 * (1 - 0.68997)^2 = 0.048059\n",
    "\\end{align}\n",
    "$\n",
    "\n",
    "You need to calculate for all input pairs, here is an example for only one input"
   ]
  },
  {
   "cell_type": "markdown",
   "metadata": {},
   "source": [
    "### Backpropagation\n",
    "Update Weights <- Summation <- Activation <- Error\n",
    "\n",
    "$$X = X - lr * \\frac{d}{dX}{f(X)}$$\n",
    "\n",
    "$\n",
    "W_{new1} = W_{old1} - lr * \\frac{dError}{dW_1} \\\\\n",
    "W_{new2} = W_{old2} - lr * \\frac{dError}{dW_2}\n",
    "$\n",
    "* X:input\n",
    "* lr:learning rate\n",
    "* f(X): output based on X\n",
    "* assume lr = 0.01"
   ]
  },
  {
   "cell_type": "markdown",
   "metadata": {},
   "source": [
    "## Derivation of the formula used in a neural network"
   ]
  },
  {
   "cell_type": "markdown",
   "metadata": {},
   "source": [
    "$$\\frac{\\partial Error}{\\partial w} = \\frac{\\partial Error}{\\partial out_o} \\times \\frac{\\partial out_o}{\\partial in_o} \\times  \\frac{\\partial in_o}{\\partial w}$$"
   ]
  },
  {
   "cell_type": "markdown",
   "metadata": {},
   "source": [
    "### Calculate the 1st part $\\frac{\\partial Error}{\\partial out_o} = output-target = -0.31003$"
   ]
  },
  {
   "cell_type": "markdown",
   "metadata": {},
   "source": [
    "$\n",
    "\\frac{\\partial Error}{\\partial out_o} = \\frac{\\partial}{\\partial out_o}({\\frac{1}{2}*{(target - output)^2})}\n",
    "$"
   ]
  },
  {
   "cell_type": "markdown",
   "metadata": {},
   "source": [
    "$\n",
    "\\frac{\\partial Error}{\\partial out_o} = (\\frac{1}{2}*2*{(target - output))}* \\frac{\\partial}{\\partial out_o}{(target - output)}\n",
    "$ ------> power rule"
   ]
  },
  {
   "cell_type": "markdown",
   "metadata": {},
   "source": [
    "$\n",
    "\\frac{\\partial Error}{\\partial out_o} = (target - output) * (-1)\n",
    "$"
   ]
  },
  {
   "cell_type": "markdown",
   "metadata": {},
   "source": [
    "$\n",
    "\\frac{\\partial Error}{\\partial out_o} = output - target\n",
    "$"
   ]
  },
  {
   "cell_type": "markdown",
   "metadata": {},
   "source": [
    "$ \n",
    "\\because out_{o1} = 0.68997, target = 1\n",
    "$"
   ]
  },
  {
   "cell_type": "markdown",
   "metadata": {},
   "source": [
    "$\\therefore \\frac{\\partial Error}{\\partial out_o} = (0.68997 - 1) = -0.31003$"
   ]
  },
  {
   "cell_type": "markdown",
   "metadata": {},
   "source": [
    "### Calculate the 2nd part $\\frac{\\partial out_o}{\\partial in_o} = out_o \\times (1 - out_o) = 0.21391$"
   ]
  },
  {
   "cell_type": "markdown",
   "metadata": {},
   "source": [
    "$\n",
    "\\because out_{o1} = sigmoid(in_{o1}) = \\frac{1}{1 + e^{-in_{o1}}}\n",
    "$"
   ]
  },
  {
   "cell_type": "markdown",
   "metadata": {},
   "source": [
    "$\n",
    "\\frac{\\partial out_{o1}}{\\partial ino_1} = \\frac{\\partial}{\\partial in_{o1}}{(\\frac{1}{1 + e^{-in_{o1}}})}\n",
    "$ ------> Move denominator up"
   ]
  },
  {
   "cell_type": "markdown",
   "metadata": {},
   "source": [
    "$\n",
    "= \\frac{\\partial}{\\partial in_{o1}}{(1 + e^{-in_{o1}})}^{-1}\n",
    "$  -----> simplify"
   ]
  },
  {
   "cell_type": "markdown",
   "metadata": {},
   "source": [
    "$\n",
    "= -1(1 + e^{-in_{o1}})^{-2} \\times \\frac{\\partial}{\\partial in_{o1}}(1 + e^{-in_{o1}})\n",
    "$ ------> chain rule + power rule"
   ]
  },
  {
   "cell_type": "markdown",
   "metadata": {},
   "source": [
    "$\n",
    "= -1(1 + e^{-in_{o1}})^{-2} \\times (\\frac{\\partial}{\\partial in_{o1}}(1) + \\frac{\\partial}{\\partial in_{o1}}(e^{-in_{o1}}))\n",
    "$ ------> sum rule"
   ]
  },
  {
   "cell_type": "markdown",
   "metadata": {},
   "source": [
    "$\n",
    "= -1(1 + e^{-in_{o1}})^{-2} \\times (0 + \\frac{\\partial}{\\partial in_{o1}}(e^{-in_{o1}}))\n",
    "$ ------> simplify"
   ]
  },
  {
   "cell_type": "markdown",
   "metadata": {},
   "source": [
    "$\n",
    "= -1(1 + e^{-in_{o1}})^{-2} \\times (e^{-in_{o1}} \\times \\frac{\\partial}{\\partial in_{o1}}(-in_{o1}))\n",
    "$ ------> exponential rule"
   ]
  },
  {
   "cell_type": "markdown",
   "metadata": {},
   "source": [
    "$\n",
    "= -1(1 + e^{-in_{o1}})^{-2} \\times (e^{-in_{o1}} \\times (-1))\n",
    "$ ------> simplify"
   ]
  },
  {
   "cell_type": "markdown",
   "metadata": {},
   "source": [
    "$\n",
    "= (1 + e^{-in_{o1}})^{-2} \\times (e^{-in_{o1}})\n",
    "$ ------> simplify"
   ]
  },
  {
   "cell_type": "markdown",
   "metadata": {},
   "source": [
    "$\n",
    "= \\frac{e^{-in_{o1}}}{(1 + e^{-in_{o1}})^2}\n",
    "$ ------> simplify"
   ]
  },
  {
   "cell_type": "markdown",
   "metadata": {},
   "source": [
    "$\n",
    "= \\frac{1 \\times (e^{-in_{o1}})}{(1 + e^{-in_{o1}}) \\times(1 + e^{-in_{o1}})}\n",
    "$ ------> tricks"
   ]
  },
  {
   "cell_type": "markdown",
   "metadata": {},
   "source": [
    "$\n",
    "= \\frac{1}{1 + e^{-in_{o1}}} \\times \\frac{e^{-in_{o1}}}{1 + e^{-in_{o1}}}\n",
    "$ ------> separate"
   ]
  },
  {
   "cell_type": "markdown",
   "metadata": {},
   "source": [
    "$\n",
    "= \\frac{1}{1 + e^{-in_{o1}}} \\times \\frac{e^{-in_{o1}} + 1 - 1}{1 + e^{-in_{o1}}}\n",
    "$ ------> tricks"
   ]
  },
  {
   "cell_type": "markdown",
   "metadata": {},
   "source": [
    "$\n",
    "= \\frac{1}{1 + e^{-in_{o1}}} \\times [\\frac{e^{-in_{o1}} + 1}{1 + e^{-in_{o1}}} - \\frac{1}{1 + e^{-in_{o1}}}]\n",
    "$ ------> separate"
   ]
  },
  {
   "cell_type": "markdown",
   "metadata": {},
   "source": [
    "$\n",
    "= \\frac{1}{1 + e^{-in_{o1}}} \\times [1 - \\frac{1}{1 + e^{-in_{o1}}}]\n",
    "$ ------> simplify"
   ]
  },
  {
   "cell_type": "markdown",
   "metadata": {},
   "source": [
    "$\n",
    "\\because out_{o1} = \\frac{1}{1 + e^{-in_{o1}}} = 0.68997\n",
    "$ "
   ]
  },
  {
   "cell_type": "markdown",
   "metadata": {},
   "source": [
    "$\n",
    "\\therefore \\frac{\\partial out_{o1}}{\\partial ino_1} = out_{o1} \\times (1 - out_{o1}) = 0.68997 \\times (1 - 0.68997) = 0.21391\n",
    "$"
   ]
  },
  {
   "cell_type": "markdown",
   "metadata": {},
   "source": [
    "### Calculate the 3rd part $\\frac{\\partial in_o}{\\partial w} = input \\ values = 1$"
   ]
  },
  {
   "cell_type": "markdown",
   "metadata": {},
   "source": [
    "All the other values except w2 will be considered constant here.\n",
    "$\n",
    "\\frac{\\partial in_{o1}}{\\partial w} = w_1 \\times x_1 + w_2 \\times x_2 = x_2 = 1\n",
    "$ "
   ]
  },
  {
   "cell_type": "markdown",
   "metadata": {},
   "source": [
    "### Put 3 parts together"
   ]
  },
  {
   "cell_type": "markdown",
   "metadata": {},
   "source": [
    "$\\frac{\\partial Error}{\\partial w} = \\frac{\\partial Error}{\\partial out_o} \\times \\frac{\\partial out_o}{\\partial in_o} \\times  \\frac{\\partial in_o}{\\partial w} = -0.31003 \\times 0.21391 \\times 1 = -0.06631$"
   ]
  },
  {
   "cell_type": "markdown",
   "metadata": {},
   "source": [
    "### New calculate new weights to join the next epoch\n",
    "$\n",
    "\\because w_{new1} = w_{old1} - lr \\times \\frac{\\partial Error}{\\partial w_1} \\\\\n",
    "= 0.2 - (0.05) \\times (-0.06631) \\\\\n",
    "= 0.2033155\n",
    "$"
   ]
  },
  {
   "cell_type": "code",
   "execution_count": 67,
   "metadata": {},
   "outputs": [
    {
     "data": {
      "text/html": [
       "<div>\n",
       "<style scoped>\n",
       "    .dataframe tbody tr th:only-of-type {\n",
       "        vertical-align: middle;\n",
       "    }\n",
       "\n",
       "    .dataframe tbody tr th {\n",
       "        vertical-align: top;\n",
       "    }\n",
       "\n",
       "    .dataframe thead th {\n",
       "        text-align: right;\n",
       "    }\n",
       "</style>\n",
       "<table border=\"1\" class=\"dataframe\">\n",
       "  <thead>\n",
       "    <tr style=\"text-align: right;\">\n",
       "      <th></th>\n",
       "      <th>input1</th>\n",
       "      <th>input2</th>\n",
       "      <th>target</th>\n",
       "    </tr>\n",
       "  </thead>\n",
       "  <tbody>\n",
       "    <tr>\n",
       "      <th>0</th>\n",
       "      <td>0</td>\n",
       "      <td>0</td>\n",
       "      <td>0</td>\n",
       "    </tr>\n",
       "    <tr>\n",
       "      <th>1</th>\n",
       "      <td>0</td>\n",
       "      <td>1</td>\n",
       "      <td>1</td>\n",
       "    </tr>\n",
       "    <tr>\n",
       "      <th>2</th>\n",
       "      <td>1</td>\n",
       "      <td>0</td>\n",
       "      <td>1</td>\n",
       "    </tr>\n",
       "    <tr>\n",
       "      <th>3</th>\n",
       "      <td>1</td>\n",
       "      <td>1</td>\n",
       "      <td>1</td>\n",
       "    </tr>\n",
       "  </tbody>\n",
       "</table>\n",
       "</div>"
      ],
      "text/plain": [
       "   input1  input2  target\n",
       "0       0       0       0\n",
       "1       0       1       1\n",
       "2       1       0       1\n",
       "3       1       1       1"
      ]
     },
     "execution_count": 67,
     "metadata": {},
     "output_type": "execute_result"
    }
   ],
   "source": [
    "df"
   ]
  },
  {
   "cell_type": "code",
   "execution_count": 8,
   "metadata": {},
   "outputs": [
    {
     "name": "stdout",
     "output_type": "stream",
     "text": [
      "(4, 2)\n"
     ]
    },
    {
     "data": {
      "text/plain": [
       "array([[0, 0],\n",
       "       [0, 1],\n",
       "       [1, 0],\n",
       "       [1, 1]])"
      ]
     },
     "execution_count": 8,
     "metadata": {},
     "output_type": "execute_result"
    }
   ],
   "source": [
    "#input_features = np.array([[0,0],[0,1],[1,0],[1,1]])\n",
    "input_features = df[['input1','input2']].to_numpy()\n",
    "print(input_features.shape)\n",
    "input_features"
   ]
  },
  {
   "cell_type": "code",
   "execution_count": 9,
   "metadata": {},
   "outputs": [
    {
     "name": "stdout",
     "output_type": "stream",
     "text": [
      "(4, 1)\n"
     ]
    },
    {
     "data": {
      "text/plain": [
       "array([[0],\n",
       "       [1],\n",
       "       [1],\n",
       "       [1]])"
      ]
     },
     "execution_count": 9,
     "metadata": {},
     "output_type": "execute_result"
    }
   ],
   "source": [
    "#target_output = np.array([[0,1,1,1]])\n",
    "target_output = df[['target']].to_numpy()\n",
    "target_output = target_output.reshape(4,1)\n",
    "print(target_output.shape)\n",
    "target_output"
   ]
  },
  {
   "cell_type": "code",
   "execution_count": 10,
   "metadata": {},
   "outputs": [
    {
     "name": "stdout",
     "output_type": "stream",
     "text": [
      "(2, 1)\n"
     ]
    },
    {
     "data": {
      "text/plain": [
       "array([[0.1],\n",
       "       [0.2]])"
      ]
     },
     "execution_count": 10,
     "metadata": {},
     "output_type": "execute_result"
    }
   ],
   "source": [
    "weights = np.array([[0.1],[0.2]])\n",
    "print(weights.shape)\n",
    "weights"
   ]
  },
  {
   "cell_type": "code",
   "execution_count": 11,
   "metadata": {},
   "outputs": [],
   "source": [
    "bias = 0.3\n",
    "lr = 0.05"
   ]
  },
  {
   "cell_type": "markdown",
   "metadata": {},
   "source": [
    "$\\frac{\\partial Error}{\\partial w} = \\frac{\\partial Error}{\\partial out_o} \\times \\frac{\\partial out_o}{\\partial in_o} \\times  \\frac{\\partial in_o}{\\partial w}$\n",
    "\n",
    "1st part $\\frac{\\partial Error}{\\partial out_o} = output-target$ \n",
    "\n",
    "2nd part $\\frac{\\partial out_o}{\\partial in_o} = out_o \\times (1 - out_o)$\n",
    "\n",
    "3rd part $\\frac{\\partial in_o}{\\partial w} = input \\ values$"
   ]
  },
  {
   "cell_type": "code",
   "execution_count": 12,
   "metadata": {
    "scrolled": false
   },
   "outputs": [
    {
     "name": "stdout",
     "output_type": "stream",
     "text": [
      "weights: [[0.1]\n",
      " [0.2]]\n",
      "inputs: [[0 0]\n",
      " [0 1]\n",
      " [1 0]\n",
      " [1 1]]\n",
      "bias: 0.3\n",
      "in_o: [[0.3]\n",
      " [0.5]\n",
      " [0.4]\n",
      " [0.6]]\n",
      "out_o: [[0.57444252]\n",
      " [0.62245933]\n",
      " [0.59868766]\n",
      " [0.64565631]]\n",
      "target_output: [[0]\n",
      " [1]\n",
      " [1]\n",
      " [1]]\n",
      "error: [[ 0.57444252]\n",
      " [-0.37754067]\n",
      " [-0.40131234]\n",
      " [-0.35434369]]\n",
      "first part: [[ 0.57444252]\n",
      " [-0.37754067]\n",
      " [-0.40131234]\n",
      " [-0.35434369]]\n",
      "second part: [[0.23045942]\n",
      " [0.22726609]\n",
      " [0.22887163]\n",
      " [0.22565434]]\n",
      "deriv: [[ 0.13238569]\n",
      " [-0.08580219]\n",
      " [-0.09184901]\n",
      " [-0.07995919]]\n",
      "third part: [[0 0 1 1]\n",
      " [0 1 0 1]]\n",
      "All 3 parts: [[-0.1718082 ]\n",
      " [-0.16576139]]\n",
      "New Weight: [[0.10859041]\n",
      " [0.20828807]]\n",
      "New Bias: [0.30626124]\n",
      "------\n"
     ]
    }
   ],
   "source": [
    "weights = np.array([[0.1],[0.2]])\n",
    "bias = 0.3\n",
    "lr = 0.05\n",
    "\n",
    "for epoch in range(1):\n",
    "    print('weights:',weights)\n",
    "    \n",
    "    inputs = input_features\n",
    "    print('inputs:',inputs)\n",
    "    \n",
    "    in_o = np.dot(inputs, weights) + bias\n",
    "    print('bias:',bias)\n",
    "    print('in_o:',in_o)\n",
    "    \n",
    "    out_o = sigmoid(in_o)\n",
    "    print('out_o:',out_o)\n",
    "    \n",
    "    error = out_o - target_output\n",
    "    print('target_output:',target_output)\n",
    "    print('error:',error)\n",
    "\n",
    "    dError_dOut = error #1st part\n",
    "    print('first part:',dError_dOut)\n",
    "    \n",
    "    dOut_dIn = sigmoid_der(out_o) #2nd part\n",
    "    print('second part:',dOut_dIn)\n",
    "    \n",
    "    # We need to update bias. Bias weight is not dependent on the input.\n",
    "    # We have to update it separately.\n",
    "    # We need deriv values to update bias value.\n",
    "    deriv = dError_dOut * dOut_dIn\n",
    "    print('deriv:',deriv)\n",
    "    \n",
    "    inputs = input_features.T #3rd part\n",
    "    print('third part:',inputs)\n",
    "    deriv_final = np.dot(inputs, deriv) \n",
    "    print('All 3 parts:',deriv_final)\n",
    "    \n",
    "    weights -= lr * deriv_final # Get new weight\n",
    "    print('New Weight:',weights)\n",
    "    \n",
    "    # Through the \"for loop\" for updating bias at each input on every iteration\n",
    "    for i in deriv:\n",
    "        bias -= lr * i\n",
    "    print('New Bias:',bias)\n",
    "    print('------')"
   ]
  },
  {
   "cell_type": "code",
   "execution_count": 15,
   "metadata": {},
   "outputs": [
    {
     "name": "stdout",
     "output_type": "stream",
     "text": [
      "Epoch: 0 Error Sum: -0.558754185648239\n",
      "Epoch: 1000 Error Sum: 0.037435259617937255\n",
      "Epoch: 2000 Error Sum: 0.010234151940755193\n",
      "Epoch: 3000 Error Sum: 0.004028391676866666\n",
      "Epoch: 4000 Error Sum: 0.0018527234441660656\n",
      "Epoch: 5000 Error Sum: 0.0008983306007179087\n",
      "Epoch: 6000 Error Sum: 0.0004194011882355936\n",
      "Epoch: 7000 Error Sum: 0.0001571435337541019\n",
      "Epoch: 8000 Error Sum: 4.882376626338947e-06\n",
      "Epoch: 9000 Error Sum: -8.69963119052991e-05\n"
     ]
    }
   ],
   "source": [
    "# Clear Version\n",
    "weights = np.array([[0.1],[0.2]])\n",
    "bias = 0.3\n",
    "lr = 0.05\n",
    "\n",
    "for epoch in range(10000):\n",
    "    inputs = input_features\n",
    "    in_o = np.dot(inputs, weights) + bias\n",
    "    out_o = sigmoid(in_o)\n",
    "    error = out_o - target_output\n",
    "    \n",
    "    x = error.sum()\n",
    "    if epoch%1000 == 0:\n",
    "        print('Epoch:',epoch,'Error Sum:',x)\n",
    "    \n",
    "    dError_dOut = error #1st part\n",
    "    dOut_dIn = sigmoid_der(out_o) #2nd part\n",
    "    deriv = dError_dOut * dOut_dIn\n",
    "    inputs = input_features.T #3rd part\n",
    "    deriv_final = np.dot(inputs, deriv) \n",
    "    weights -= lr * deriv_final \n",
    "    \n",
    "    for i in deriv:\n",
    "        bias -= lr * i"
   ]
  },
  {
   "cell_type": "code",
   "execution_count": 61,
   "metadata": {},
   "outputs": [
    {
     "name": "stdout",
     "output_type": "stream",
     "text": [
      "Weights: [[8.43423044]\n",
      " [8.43430746]]\n",
      "Bias: [-3.87076502]\n"
     ]
    }
   ],
   "source": [
    "print('Weights:',weights)\n",
    "print('Bias:',bias)"
   ]
  },
  {
   "cell_type": "code",
   "execution_count": 16,
   "metadata": {},
   "outputs": [
    {
     "data": {
      "text/plain": [
       "array([0.9793702])"
      ]
     },
     "execution_count": 16,
     "metadata": {},
     "output_type": "execute_result"
    }
   ],
   "source": [
    "# Prediction with the new model for [1,0], groud truth result = 1\n",
    "single_point = np.array([1,0])\n",
    "result1 = np.dot(single_point, weights) + bias\n",
    "result2 = sigmoid(result1)\n",
    "result2"
   ]
  },
  {
   "cell_type": "code",
   "execution_count": 17,
   "metadata": {},
   "outputs": [
    {
     "data": {
      "text/plain": [
       "array([0.04112867])"
      ]
     },
     "execution_count": 17,
     "metadata": {},
     "output_type": "execute_result"
    }
   ],
   "source": [
    "# Prediction with the new model for [0,0], groud truth result = 0\n",
    "single_point = np.array([0,0])\n",
    "result1 = np.dot(single_point, weights) + bias\n",
    "result2 = sigmoid(result1)\n",
    "result2"
   ]
  },
  {
   "cell_type": "markdown",
   "metadata": {},
   "source": [
    "# Why do we need bias?"
   ]
  },
  {
   "cell_type": "code",
   "execution_count": 18,
   "metadata": {},
   "outputs": [
    {
     "data": {
      "text/plain": [
       "<matplotlib.legend.Legend at 0x116ca2290>"
      ]
     },
     "execution_count": 18,
     "metadata": {},
     "output_type": "execute_result"
    },
    {
     "data": {
      "image/png": "[encoded data removed]",
      "text/plain": [
       "<Figure size 432x288 with 1 Axes>"
      ]
     },
     "metadata": {
      "needs_background": "light"
     },
     "output_type": "display_data"
    }
   ],
   "source": [
    "# Change steepness\n",
    "input = np.linspace(-10,10,100)\n",
    "output = sigmoid(input)\n",
    "plt.plot(input,output,c=\"blue\",label='output')\n",
    "output = sigmoid(input*0.5)\n",
    "plt.plot(input,output,c=\"red\",label='output*0.5')\n",
    "output = sigmoid(input*2.5)\n",
    "plt.plot(input,output,c=\"green\",label='output*2.5')\n",
    "plt.legend()"
   ]
  },
  {
   "cell_type": "raw",
   "metadata": {},
   "source": [
    "From the output, we can quickly notice that for negative values, the output of the sigmoid function is going to be ≤0.5. Moreover, for positive values, the output is going to be >0.5.\n",
    "From the figure (red curve), you can see that if we decrease the value of the weight, it decreases the value of steepness, and if we increase the value of weight (green curve), it increases the value of steepness. "
   ]
  },
  {
   "cell_type": "code",
   "execution_count": 186,
   "metadata": {},
   "outputs": [
    {
     "data": {
      "text/plain": [
       "<matplotlib.legend.Legend at 0x124041950>"
      ]
     },
     "execution_count": 186,
     "metadata": {},
     "output_type": "execute_result"
    },
    {
     "data": {
      "image/png": "[encoded data removed]",
      "text/plain": [
       "<Figure size 432x288 with 1 Axes>"
      ]
     },
     "metadata": {
      "needs_background": "light"
     },
     "output_type": "display_data"
    }
   ],
   "source": [
    "# Change location\n",
    "input = np.linspace(-10,10,100)\n",
    "output = sigmoid(input)\n",
    "plt.plot(input,output,c=\"green\",label='output')\n",
    "output = sigmoid(input+5)\n",
    "plt.plot(input,output,c=\"blue\",label = 'output+5')\n",
    "output = sigmoid(input-5)\n",
    "plt.plot(input,output,c=\"red\",label = 'output-5')\n",
    "plt.legend()"
   ]
  },
  {
   "cell_type": "raw",
   "metadata": {},
   "source": [
    "From the output, we can notice that we can shift the curves on the x-axis that helps us to change the pattern we show in the previous example.\n",
    "\n",
    "We can view bias as a threshold value for activation\n",
    "Bias increases the flexibility of the model, by changing steepness and location\n",
    "The bias value is most useful when we have all zeros (0,0) as input"
   ]
  },
  {
   "cell_type": "code",
   "execution_count": 21,
   "metadata": {},
   "outputs": [
    {
     "name": "stdout",
     "output_type": "stream",
     "text": [
      "Epoch: 0 Error Sum: -0.850744298396923\n",
      "Epoch: 1000 Error Sum: 0.3376107888502803\n",
      "Epoch: 2000 Error Sum: 0.41092044099152836\n",
      "Epoch: 3000 Error Sum: 0.4383944163580791\n",
      "Epoch: 4000 Error Sum: 0.4528585619480444\n",
      "Epoch: 5000 Error Sum: 0.4618012324456926\n",
      "Epoch: 6000 Error Sum: 0.46788262632847033\n",
      "Epoch: 7000 Error Sum: 0.47228872085099927\n",
      "Epoch: 8000 Error Sum: 0.47562896673845945\n",
      "Epoch: 9000 Error Sum: 0.4782488952248769\n"
     ]
    }
   ],
   "source": [
    "# Clear Version\n",
    "weights = np.array([[0.1],[0.2]])\n",
    "#bias = 0.3\n",
    "lr = 0.05\n",
    "\n",
    "for epoch in range(10000):\n",
    "    inputs = input_features\n",
    "    in_o = np.dot(inputs, weights) #+ bias\n",
    "    out_o = sigmoid(in_o)\n",
    "    error = out_o - target_output\n",
    "    \n",
    "    x = error.sum()\n",
    "    if epoch%1000 == 0:\n",
    "        print('Epoch:',epoch,'Error Sum:',x)\n",
    "    \n",
    "    dError_dOut = error #1st part\n",
    "    dOut_dIn = sigmoid_der(out_o) #2nd part\n",
    "    inputs = input_features.T #3rd part\n",
    "    deriv_final = np.dot(inputs, dError_dOut * dOut_dIn) \n",
    "    \n",
    "    weights -= lr * deriv_final \n",
    "    \n",
    "    #for i in deriv:\n",
    "    #    bias -= lr * i"
   ]
  },
  {
   "cell_type": "code",
   "execution_count": 22,
   "metadata": {},
   "outputs": [
    {
     "name": "stdout",
     "output_type": "stream",
     "text": [
      "Weights: [[4.6169307 ]\n",
      " [4.61995023]]\n"
     ]
    }
   ],
   "source": [
    "print('Weights:',weights)"
   ]
  },
  {
   "cell_type": "code",
   "execution_count": 24,
   "metadata": {},
   "outputs": [
    {
     "data": {
      "text/plain": [
       "array([0.99021364])"
      ]
     },
     "execution_count": 24,
     "metadata": {},
     "output_type": "execute_result"
    }
   ],
   "source": [
    "# Prediction with the new model for [1,0], groud truth result = 1\n",
    "single_point = np.array([1,0])\n",
    "result1 = np.dot(single_point, weights)\n",
    "result2 = sigmoid(result1)\n",
    "result2"
   ]
  },
  {
   "cell_type": "code",
   "execution_count": 25,
   "metadata": {},
   "outputs": [
    {
     "data": {
      "text/plain": [
       "array([0.5])"
      ]
     },
     "execution_count": 25,
     "metadata": {},
     "output_type": "execute_result"
    }
   ],
   "source": [
    "# Prediction with the new model for [0,0], groud truth result = 0\n",
    "single_point = np.array([0,0])\n",
    "result1 = np.dot(single_point, weights)\n",
    "result2 = sigmoid(result1)\n",
    "result2"
   ]
  },
  {
   "cell_type": "raw",
   "metadata": {},
   "source": [
    "Reference: \n",
    "1.https://math.stackexchange.com/questions/78575/derivative-of-sigmoid-function-sigma-x-frac11e-x\n",
    "2.https://medium.com/towards-artificial-intelligence/building-neural-networks-from-scratch-with-python-code-and-math-in-detail-i-536fae5d7bbf"
   ]
  }
 ],
 "metadata": {
  "kernelspec": {
   "display_name": "Python 3",
   "language": "python",
   "name": "python3"
  },
  "language_info": {
   "codemirror_mode": {
    "name": "ipython",
    "version": 3
   },
   "file_extension": ".py",
   "mimetype": "text/x-python",
   "name": "python",
   "nbconvert_exporter": "python",
   "pygments_lexer": "ipython3",
   "version": "3.7.7"
  },
  "toc": {
   "base_numbering": 1,
   "nav_menu": {},
   "number_sections": true,
   "sideBar": true,
   "skip_h1_title": false,
   "title_cell": "Table of Contents",
   "title_sidebar": "Contents",
   "toc_cell": true,
   "toc_position": {},
   "toc_section_display": true,
   "toc_window_display": false
  }
 },
 "nbformat": 4,
 "nbformat_minor": 4
}
